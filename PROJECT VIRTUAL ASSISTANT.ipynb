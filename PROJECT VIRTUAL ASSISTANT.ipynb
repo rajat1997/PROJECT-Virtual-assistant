{
 "cells": [
  {
   "cell_type": "code",
   "execution_count": 1,
   "metadata": {},
   "outputs": [],
   "source": [
    "import pyttsx3\n",
    "from PIL import ImageGrab\n",
    "import webbrowser\n",
    "import random,os\n",
    "import speech_recognition as sr\n",
    "from time import sleep\n",
    "from selenium import webdriver\n",
    "import wikipedia\n",
    "from time import strftime\n",
    "import time,sys\n",
    "import datetime\n",
    "import subprocess\n",
    "import pyautogui\n",
    "import requests\n",
    "from tkinter import *\n",
    "import psutil\n"
   ]
  },
  {
   "cell_type": "code",
   "execution_count": 2,
   "metadata": {},
   "outputs": [
    {
     "name": "stdout",
     "output_type": "stream",
     "text": [
      "Your name:Rajat Sharma\n"
     ]
    }
   ],
   "source": [
    "engine=pyttsx3.init()\n",
    "voices=engine.getProperty('voices')\n",
    "engine.setProperty('voice',voices[1].id)\n",
    "r=sr.Recognizer()\n",
    "info=['I am Emma','I am the one who needs no gun to get respect from no one on the street']\n",
    "booting=['Emma Assistant version 1.0 has begun','Emma Assistant at your service','Currently starting Emma Virtual Assistant',\"Loading drivers and modules\",\"Emma assistant is booting up\"]\n",
    "greetings=[\"hello\",\"hello there\",\"Hi,I am Emma\",\"What is up user\",\"Emma at your service\",\"Greetings organic lifeform\",\"how can I help you today\",\"Greetings human\",\"Your wish is my command\",\"Hello user\",\"Hello user,what would you like to do\"] #Possible responses to user greetings\n",
    "userGreet=[\"how can I be of assistance today\",\"your wish is my command\",\"I am Emma,your personal virtual assistant\",\"how are you today\"]\n",
    "closing=['Shutting down','Closing Emma Assistant','Have a nice day']\n",
    "feelings=[\"I have no feelings,I am not sentient like you probably are\",\"I am feeling like a million bytes\",\"I am feeling functional and ready to serve\"]\n",
    "musical=[\"What are we watching today\",\"Are gonna to sing some karaoke\",\"Listening to some music today\",\"Good thing I have my dancing module in\",\"My favorite youtuber is Rajat Sharma\",\"Let's start our own channel\"]\n",
    "engine.say(random.choice(userGreet))\n",
    "engine.runAndWait()\n",
    "engine.say(\"Please write your name in the window\")\n",
    "engine.runAndWait()\n",
    "name=input(\"Your name:\")\n",
    "engine.say(\"Hello \"+name+ random.choice(userGreet))\n",
    "engine.runAndWait()"
   ]
  },
  {
   "cell_type": "code",
   "execution_count": 3,
   "metadata": {},
   "outputs": [],
   "source": [
    "def greeting(data):\n",
    "        engine.say(random.choice(greetings))\n",
    "        engine.runAndWait()\n",
    "        main()"
   ]
  },
  {
   "cell_type": "code",
   "execution_count": 4,
   "metadata": {},
   "outputs": [],
   "source": [
    "def makeJoke():\n",
    "    responeData = requests.get(\"http://api.icndb.com/jokes/random/?escape=javascript\")\n",
    "    joke = str(responeData.json()['value']['joke'])\n",
    "    print (joke)\n",
    "    engine.say(joke)\n",
    "    engine.runAndWait()\n",
    "    main()"
   ]
  },
  {
   "cell_type": "code",
   "execution_count": 5,
   "metadata": {},
   "outputs": [],
   "source": [
    "def search(data):\n",
    "    driver=webdriver.Chrome()\n",
    "    driver.get(\"http://google.com/search?q=\"+data.split(\"search\",1)[1])\n",
    "    wordSearch=data.split(\"search\",1)[1]\n",
    "    sentence=wikipedia.summary(wordSearch, sentences=4)\n",
    "    engine.say(sentence)\n",
    "    engine.runAndWait()\n",
    "    main()\n",
    "   \n"
   ]
  },
  {
   "cell_type": "code",
   "execution_count": 6,
   "metadata": {},
   "outputs": [],
   "source": [
    "\n",
    "def youtube(data):\n",
    "    engine.say(random.choice(musical))\n",
    "    engine.runAndWait()\n",
    "    Call_URL=\"http://youtube.com\"\n",
    "    mycmd = r'start chrome /new-tab {}'.format(Call_URL)\n",
    "    subprocess.Popen(mycmd,shell = True)\n",
    "    #webbrowser.get(\"C:/Program Files (x86)/Google/Chrome/Application/chrome.exe %s\").open(\"http://youtube.com\")\n",
    "    sleep(2)\n",
    "    main()\n"
   ]
  },
  {
   "cell_type": "code",
   "execution_count": 7,
   "metadata": {},
   "outputs": [],
   "source": [
    "def time(data):\n",
    "    current=strftime(\"%I:%M\")\n",
    "    engine.say(\"The current time is \"+current)\n",
    "    engine.runAndWait()\n",
    "    main()"
   ]
  },
  {
   "cell_type": "code",
   "execution_count": 8,
   "metadata": {},
   "outputs": [],
   "source": [
    "def tDate(date):\n",
    "    dateT=strftime(\"%B:%d:%A:%Y\")\n",
    "    engine.say(\"Today's date is \"+dateT)\n",
    "    engine.runAndWait()\n",
    "    main()"
   ]
  },
  {
   "cell_type": "code",
   "execution_count": 9,
   "metadata": {},
   "outputs": [],
   "source": [
    "def Gmail(data):\n",
    "        engine.say(\"Opening Email Client\")\n",
    "        engine.runAndWait\n",
    "        Call_URL=\"http://gmail.com\"\n",
    "        mycmd = r'start chrome /new-tab {}'.format(Call_URL)\n",
    "        subprocess.Popen(mycmd,shell = True)\n",
    "        #webbrowser.get(\"C:/Program Files (x86)/Google/Chrome/Application/chrome.exe %s\").open(\"http://gmail.com\")\n",
    "        main()"
   ]
  },
  {
   "cell_type": "code",
   "execution_count": 10,
   "metadata": {},
   "outputs": [],
   "source": [
    "def Amazon(data):\n",
    "        engine.say(\"Opening Amazon to purchase \"+data.split('buy',1)[1])\n",
    "        engine.runAndWait\n",
    "        webbrowser.get(\"C:/Program Files (x86)/Google/Chrome/Application/chrome.exe %s\").open(\"https://www.amazon.com/s/field-keywords=\",data.split('buy',1)[1])\n",
    "        main()\n"
   ]
  },
  {
   "cell_type": "code",
   "execution_count": 11,
   "metadata": {},
   "outputs": [],
   "source": [
    "def SS():\n",
    "        engine.say(\"Taking screenshot\")\n",
    "        engine.runAndWait()\n",
    "        name=random.randint(1000,300000)\n",
    "        time.sleep(5)\n",
    "        ImageGrab.grab().save(\"screenshot\"+str(name),\"JPEG\")\n",
    "        engine.say(\"Screenshot saved at \"+name)\n",
    "        engine.runAndWait()\n",
    "        print(\"Screenshot saved at\"+name)\n",
    "        main()"
   ]
  },
  {
   "cell_type": "code",
   "execution_count": 12,
   "metadata": {},
   "outputs": [],
   "source": [
    "def calculate(data):\n",
    "        if 'plus' in data:\n",
    "                str.replace(\"plus\",\"+\")\n",
    "        \n",
    "        value1,value2= (data.split('calculate',1)[1])\n",
    "        answer=value1+value2\n",
    "        engine.say(\"The answer to that is \"+answer)\n",
    "        engine.runAndWait()"
   ]
  },
  {
   "cell_type": "code",
   "execution_count": 13,
   "metadata": {},
   "outputs": [],
   "source": [
    "def locate (data):\n",
    "        place=data.split('locate',1)[1]\n",
    "        engine.say(\"Locating \"+ place)\n",
    "        engine.runAndWait()\n",
    "        Call_URL=place\n",
    "        mycmd = r'start chrome /new-tab {}'.format(Call_URL)\n",
    "        subprocess.Popen(mycmd,shell = True)\n",
    "        #webbrowser.get(\"C:/Program Files (x86)/Google/Chrome/Application/chrome.exe %s\").open(\"https://www.google.ca/maps/place/\"+place+\"/\")\n",
    "        main()"
   ]
  },
  {
   "cell_type": "code",
   "execution_count": 14,
   "metadata": {},
   "outputs": [],
   "source": [
    "def goto(data):\n",
    "        where=data.split('go to',1)[1]\n",
    "        Call_URL=where\n",
    "        engine.say(\"Navigating to\"+where)\n",
    "        engine.runAndWait()\n",
    "        mycmd = r'start chrome /new-tab {}'.format(Call_URL)\n",
    "        subprocess.Popen(mycmd,shell = True)\n",
    "        #webbrowser.get(\"C:/Program Files (x86)/Google/Chrome/Application/chrome.exe %s\").open(\"http://\"+where.strip())\n",
    "\n",
    "        main()        \n",
    "        "
   ]
  },
  {
   "cell_type": "code",
   "execution_count": null,
   "metadata": {},
   "outputs": [],
   "source": [
    "def main():        \n",
    "    with sr.Microphone() as source:\n",
    "        sleep(1)\n",
    "        print(\"Say something then wait.\")\n",
    "        audio=r.listen(source)\n",
    "        sleep(1)\n",
    "        print (\"\\n\"*50)\n",
    "        \n",
    "    try:\n",
    "       data = r.recognize_google(audio)\n",
    "       print(\"You said:\"+data)\n",
    "       if data=='hello':\n",
    "            greeting(data)\n",
    "       if 'search'in data:\n",
    "           engine.say(\"Opening web browser to search for \"+data.split(\"search\",1)[1])\n",
    "           engine.runAndWait()\n",
    "           search(data)\n",
    "       if 'YouTube' in data:\n",
    "           youtube(data)\n",
    "       if 'time' in data:\n",
    "           time(data)\n",
    "       if 'date' in data:\n",
    "            tDate(data)\n",
    "       if data=='shut down':\n",
    "           engine.say(random.choice(closing))\n",
    "           engine.runAndWait()\n",
    "           sys.exit()\n",
    "       if 'thank you' in data:\n",
    "           engine.say(\"You are welcome\")\n",
    "           engine.runAndWait()\n",
    "       if data=='Scarlet':\n",
    "               engine.say(\"Yes, I am here\")\n",
    "       if data=='email':\n",
    "               Gmail(data)\n",
    "       if 'buy' in data:\n",
    "               Amazon(data)\n",
    "       if data=='screenshot':\n",
    "                SS()\n",
    "       if 'calculate' in data:\n",
    "               calculate(data)\n",
    "       if 'locate' in data:\n",
    "               locate(data)\n",
    "       if data=='Notepad':\n",
    "               engine.say(\"Opening notepad\")\n",
    "               engine.runAndWait()\n",
    "               subprocess.Popen('notepad.exe')\n",
    "               \n",
    "               main()\n",
    "       if data=='change voice' :\n",
    "               engine.setProperty('voice',voices[random.randrange(0,2)].id)\n",
    "               engine.say(\"Voice now changed,if not use command again\")\n",
    "               engine.runAndWait()\n",
    "               main()\n",
    "       if data=='tell me a joke':\n",
    "               makeJoke()\n",
    "       if 'go to' in data:\n",
    "               goto(data)\n",
    "       if 'type' in data:\n",
    "               text=data.split('type',1)[1]\n",
    "\n",
    "               pyautogui.typewrite(text)\n",
    "               main()\n",
    "       if data=='who am I':\n",
    "               engine.say(\"You are \"+ name)\n",
    "               engine.runAndWait()\n",
    "               main()\n",
    "       if data=='who are you':\n",
    "               engine.say(random.choice(info))\n",
    "               engine.runAndWait()\n",
    "               main()\n",
    "       if data=='how are you':\n",
    "               engine.say(random.choice(feelings))\n",
    "               engine.runAndWait()\n",
    "               main()\n",
    "\n",
    "               \n",
    "\n",
    "       else:\n",
    "            main()\n",
    "            \n",
    "    except sr.UnknownValueError:\n",
    "            sleep (2)\n",
    "            engine.say(\"Google Speech Recognition could not understand what you were trying to say\")\n",
    "            engine.runAndWait()\n",
    "            main()\n",
    "    except sr.RequestError as e:\n",
    "           print(\"Could not request results from Google Speech Recoginition Service;{0}\".format(e))\n",
    "           main()\n",
    "main()  \n",
    "   "
   ]
  },
  {
   "cell_type": "code",
   "execution_count": null,
   "metadata": {},
   "outputs": [],
   "source": []
  }
 ],
 "metadata": {
  "kernelspec": {
   "display_name": "Python 3",
   "language": "python",
   "name": "python3"
  },
  "language_info": {
   "codemirror_mode": {
    "name": "ipython",
    "version": 3
   },
   "file_extension": ".py",
   "mimetype": "text/x-python",
   "name": "python",
   "nbconvert_exporter": "python",
   "pygments_lexer": "ipython3",
   "version": "3.6.5"
  }
 },
 "nbformat": 4,
 "nbformat_minor": 2
}
